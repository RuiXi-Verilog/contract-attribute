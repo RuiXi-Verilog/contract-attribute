{
 "cells": [
  {
   "cell_type": "code",
   "execution_count": 1,
   "metadata": {},
   "outputs": [],
   "source": [
    "import numpy as np\n",
    "import pandas as pd\n",
    "from pathlib import Path\n",
    "import os"
   ]
  },
  {
   "cell_type": "code",
   "execution_count": 11,
   "metadata": {},
   "outputs": [],
   "source": [
    "home = str(Path.home())\n",
    "data_folder_path = os.path.join(home, 'data', 'dataset3')\n",
    "test_file_name = 'dataset3-000.csv'\n",
    "test_file_path = os.path.join(data_folder_path, test_file_name)"
   ]
  },
  {
   "cell_type": "code",
   "execution_count": 29,
   "metadata": {},
   "outputs": [
    {
     "data": {
      "text/plain": [
       "(4780, 5)"
      ]
     },
     "execution_count": 29,
     "metadata": {},
     "output_type": "execute_result"
    }
   ],
   "source": [
    "df = pd.read_csv(test_file_path)\n",
    "df.shape"
   ]
  },
  {
   "cell_type": "code",
   "execution_count": 28,
   "metadata": {},
   "outputs": [
    {
     "data": {
      "text/plain": [
       "(1598, 5)"
      ]
     },
     "execution_count": 28,
     "metadata": {},
     "output_type": "execute_result"
    }
   ],
   "source": [
    "upgradeable_contract = df.loc[df['code'].str.contains(\"Upgradeable\", case=False)]\n",
    "upgradeable_contract.shape"
   ]
  },
  {
   "cell_type": "code",
   "execution_count": 30,
   "metadata": {},
   "outputs": [
    {
     "data": {
      "text/plain": [
       "(18, 5)"
      ]
     },
     "execution_count": 30,
     "metadata": {},
     "output_type": "execute_result"
    }
   ],
   "source": [
    "access_control_contract = df.loc[df['code'].str.contains(\"owneable|accesscontrol\", case=False)]\n",
    "access_control_contract.shape"
   ]
  },
  {
   "cell_type": "code",
   "execution_count": 31,
   "metadata": {},
   "outputs": [
    {
     "name": "stdout",
     "output_type": "stream",
     "text": [
      "(2812, 5)\n",
      "(117, 5)\n",
      "(8, 5)\n",
      "(13, 5)\n"
     ]
    }
   ],
   "source": [
    "token_erc20_contract = df.loc[df['code'].str.contains(\"erc20\", case=False)]\n",
    "token_erc721_contract = df.loc[df['code'].str.contains(\"erc721\", case=False)]\n",
    "token_erc777_contract = df.loc[df['code'].str.contains(\"erc777\", case=False)]\n",
    "token_erc1155_contract = df.loc[df['code'].str.contains(\"erc1155\", case=False)]\n",
    "print(token_erc20_contract.shape)\n",
    "print(token_erc721_contract.shape)\n",
    "print(token_erc777_contract.shape)\n",
    "print(token_erc1155_contract.shape)"
   ]
  },
  {
   "cell_type": "code",
   "execution_count": 32,
   "metadata": {},
   "outputs": [
    {
     "data": {
      "text/plain": [
       "(11, 5)"
      ]
     },
     "execution_count": 32,
     "metadata": {},
     "output_type": "execute_result"
    }
   ],
   "source": [
    "governance_contract = df.loc[df['code'].str.contains(\"ERC20Votes|Governor\", case=False)]\n",
    "governance_contract.shape"
   ]
  },
  {
   "cell_type": "code",
   "execution_count": 33,
   "metadata": {},
   "outputs": [
    {
     "data": {
      "text/plain": [
       "(0, 5)"
      ]
     },
     "execution_count": 33,
     "metadata": {},
     "output_type": "execute_result"
    }
   ],
   "source": [
    "crosschain_contract = df.loc[df['code'].str.contains(\"CrossChain\", case=False)]\n",
    "crosschain_contract.shape"
   ]
  },
  {
   "cell_type": "code",
   "execution_count": 34,
   "metadata": {},
   "outputs": [
    {
     "data": {
      "text/plain": [
       "(4003, 5)"
      ]
     },
     "execution_count": 34,
     "metadata": {},
     "output_type": "execute_result"
    }
   ],
   "source": [
    "proxy_contract = df.loc[df['code'].str.contains(\"proxy\", case=False)]\n",
    "proxy_contract.shape"
   ]
  },
  {
   "cell_type": "code",
   "execution_count": 35,
   "metadata": {},
   "outputs": [
    {
     "data": {
      "text/plain": [
       "(240, 5)"
      ]
     },
     "execution_count": 35,
     "metadata": {},
     "output_type": "execute_result"
    }
   ],
   "source": [
    "security_contract = df.loc[df['code'].str.contains(\"PullPayment|ReentrancyGuard|Pausable\", case=False)]\n",
    "security_contract.shape"
   ]
  }
 ],
 "metadata": {
  "kernelspec": {
   "display_name": "Python 3.10.2 64-bit",
   "language": "python",
   "name": "python3"
  },
  "language_info": {
   "codemirror_mode": {
    "name": "ipython",
    "version": 3
   },
   "file_extension": ".py",
   "mimetype": "text/x-python",
   "name": "python",
   "nbconvert_exporter": "python",
   "pygments_lexer": "ipython3",
   "version": "3.10.2"
  },
  "orig_nbformat": 4,
  "vscode": {
   "interpreter": {
    "hash": "e7370f93d1d0cde622a1f8e1c04877d8463912d04d973331ad4851f04de6915a"
   }
  }
 },
 "nbformat": 4,
 "nbformat_minor": 2
}
